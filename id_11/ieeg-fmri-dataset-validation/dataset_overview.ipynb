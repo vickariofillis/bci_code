{
 "cells": [
  {
   "cell_type": "markdown",
   "id": "32a9f52c-09ba-4779-b96e-d3a36cb32e5c",
   "metadata": {},
   "source": [
    "# Plot data overview\n",
    "\n",
    "Plot meta-information from `participants.tsv` and from participant folders (mostly `channels.tsv`)\n",
    "\n",
    "From `participants.tsv`:\n",
    "* age and sex of participants\n",
    "* handedness\n",
    "* language dominance\n",
    "* distribution of fMRI / iEEG and high-density iEEG data across participants\n",
    "* implanted iEEG hemisphere\n",
    "\n",
    "From participant folders:\n",
    "* percent of bad iEEG channels across participants\n",
    "* number of good iEEG channels across participants\n",
    "* distribution of ECoG, sEEG and high-density ECoG across participants\n",
    "* distribution of task rest and natural rest\n",
    "* sampling rate of iEEG data\n",
    "* anatomical sessions across participants (3t or 7t)\n",
    "* distribution of breathing, heart rate and electroocculography data across participants"
   ]
  },
  {
   "cell_type": "code",
   "execution_count": 1,
   "id": "1fd5de72-8a2e-4da1-a152-721b10439955",
   "metadata": {},
   "outputs": [],
   "source": [
    "import numpy as np\n",
    "import pandas as pd\n",
    "import os\n",
    "import seaborn as sns\n",
    "import squarify\n",
    "\n",
    "from matplotlib import pyplot as plt\n",
    "from ieeg_fmri_validation.meta import read_meta\n",
    "%matplotlib inline\n",
    "\n",
    "pd.set_option('display.max_columns', 20)\n",
    "pd.set_option('display.width', 200)\n",
    "sns.reset_defaults()\n",
    "sns.set_context('notebook')"
   ]
  },
  {
   "cell_type": "code",
   "execution_count": 2,
   "id": "c11c6c25-bae4-4cca-b0bb-2f1ffc0b3ae2",
   "metadata": {},
   "outputs": [],
   "source": [
    "def plot_bad_ratios(hist_data):\n",
    "    plt.figure(figsize=(3, 3))\n",
    "    ax = sns.histplot(np.round(np.array(hist_data)),\n",
    "                      kde=True, edgecolor=\"w\", linewidth=1,\n",
    "                      bins=range(int(np.max(np.round(np.array(hist_data))) + 2)))\n",
    "    plt.xlabel('Percent bad electrodes')\n",
    "    mids = [rect.get_x() + rect.get_width() / 2 for rect in ax.patches]\n",
    "    plt.xticks(mids, (np.array(mids) - .5).astype(int))\n",
    "    plt.tight_layout()\n",
    "\n",
    "\n",
    "def plot_good_electrodes(hist_data):\n",
    "    plt.figure(figsize=(3, 3))\n",
    "    ax = sns.histplot(np.round(np.array(hist_data)),\n",
    "                      kde=True, edgecolor=\"w\", linewidth=1,\n",
    "                      bins=range(int(np.min(np.round(np.array(hist_data)))), int(np.max(np.round(np.array(hist_data)))+10), 10))\n",
    "    plt.xlabel('Good electrodes')\n",
    "    mids = [rect.get_x() + rect.get_width() / 2 for rect in ax.patches]\n",
    "    plt.xticks(mids)\n",
    "    plt.tight_layout()\n",
    "\n",
    "\n",
    "def plot_value_counts(hist_data):\n",
    "    plt.figure(figsize=(3, 3))\n",
    "    prop_cycle = plt.rcParams['axes.prop_cycle']\n",
    "    cmap = prop_cycle.by_key()['color']\n",
    "    colors = cmap[:len(hist_data.value_counts())]\n",
    "    squarify.plot(sizes=hist_data.value_counts(),\n",
    "                  color=colors,\n",
    "                  label=hist_data.value_counts().index.values,\n",
    "                  alpha=.2)\n",
    "\n",
    "\n",
    "def plot_sums(data):\n",
    "    x = data.sum(axis=0)\n",
    "    plt.figure(figsize=(3, 3))\n",
    "    prop_cycle = plt.rcParams['axes.prop_cycle']\n",
    "    cmap = prop_cycle.by_key()['color']\n",
    "    colors = cmap[:len(x)]\n",
    "    squarify.plot(x, color=colors, label=x.index, alpha=.2)"
   ]
  },
  {
   "cell_type": "markdown",
   "id": "7aca1049-3ee6-4b9c-9870-0c371bf1ad79",
   "metadata": {},
   "source": [
    "### Specify path to the BIDS dataset"
   ]
  },
  {
   "cell_type": "code",
   "execution_count": 3,
   "id": "23a3c599-78bd-40df-83ee-4a1749ee5c1d",
   "metadata": {},
   "outputs": [],
   "source": [
    "bids_dir='/Fridge/users/julia/project_chill_dataset_paper/data/BIDS2'"
   ]
  },
  {
   "cell_type": "markdown",
   "id": "f3e74f62-ff0e-4406-99da-07bddf41fabc",
   "metadata": {},
   "source": [
    "### Load `participants.tsv`"
   ]
  },
  {
   "cell_type": "code",
   "execution_count": 4,
   "id": "34c22ad5-0284-4411-9147-3b18ff71b242",
   "metadata": {},
   "outputs": [
    {
     "name": "stdout",
     "output_type": "stream",
     "text": [
      "  participant_id sex  age handedness language_dominance language_dominance_technique iEEG fMRI iEEG_hemisphere high_density_grid\n",
      "0         sub-01   M   55          R                NaN                          NaN  yes   no              LR                no\n",
      "1         sub-02   F    9          R                  L                  fTCD + fMRI  yes   no               L                no\n",
      "2         sub-03   F   33          R                  L                         Wada  yes   no               L                no\n",
      "3         sub-04   M   11          R         possibly L                         fMRI   no  yes             NaN               NaN\n",
      "4         sub-05   F   33          R                  L                         fTCD  yes   no               L                no\n",
      "5         sub-06   F   43          R                  L                         fMRI  yes   no               L                no\n",
      "6         sub-07   F   42          R                  L                         fMRI  yes  yes               L                no\n",
      "7         sub-08   M   17          R                  L                  fTCD + fMRI   no  yes             NaN               NaN\n",
      "8         sub-09   F   33          R                  L                         fTCD  yes  yes               L                no\n",
      "9         sub-10   M    8          R                  L                         Wada  yes   no               L                no\n"
     ]
    }
   ],
   "source": [
    "table_subjs = pd.read_csv(os.path.join(bids_dir, 'participants.tsv'), sep='\\t')\n",
    "table_subjs['language_dominance']=table_subjs['language_dominance'].str.strip()\n",
    "print(table_subjs.head(10))"
   ]
  },
  {
   "cell_type": "markdown",
   "id": "f8d4a1f2-3b98-48ed-8c5a-4c8ab39491d0",
   "metadata": {},
   "source": [
    "### Load meta-information from participant folders"
   ]
  },
  {
   "cell_type": "code",
   "execution_count": 5,
   "id": "f05eb077-d959-459f-90cf-e07379e33bd9",
   "metadata": {
    "collapsed": true,
    "jupyter": {
     "outputs_hidden": true
    },
    "tags": []
   },
   "outputs": [
    {
     "name": "stdout",
     "output_type": "stream",
     "text": [
      "01\n",
      "film\n",
      "Picking up BIDS files done\n",
      "Extracting parameters from /Fridge/users/julia/project_chill_dataset_paper/data/BIDS2/sub-01/ses-iemu/ieeg/sub-01_ses-iemu_task-film_acq-clinical_run-1_ieeg.vhdr...\n",
      "Setting channel info structure...\n",
      "Loading BIDS data done\n",
      "Getting bad electrodes done\n",
      "rest\n",
      "Picking up BIDS files done\n",
      "Extracting parameters from /Fridge/users/julia/project_chill_dataset_paper/data/BIDS2/sub-01/ses-iemu/ieeg/sub-01_ses-iemu_task-rest_acq-clinical_run-1_ieeg.vhdr...\n",
      "Setting channel info structure...\n",
      "Loading BIDS data done\n",
      "Getting bad electrodes done\n",
      "02\n",
      "film\n",
      "Picking up BIDS files done\n",
      "Extracting parameters from /Fridge/users/julia/project_chill_dataset_paper/data/BIDS2/sub-02/ses-iemu/ieeg/sub-02_ses-iemu_task-film_acq-clinical_run-1_ieeg.vhdr...\n",
      "Setting channel info structure...\n",
      "Loading BIDS data done\n",
      "Getting bad electrodes done\n",
      "rest\n"
     ]
    },
    {
     "name": "stderr",
     "output_type": "stream",
     "text": [
      "/home/julia/Documents/project_chill_dataset_paper/git/ieeg-fmri-dataset-validation/ieeg_fmri_validation/iemu/classes.py:72: RuntimeWarning: Limited 1 annotation(s) that were expanding outside the data range.\n",
      "  self.raw = mne.io.read_raw_brainvision(self.raw_path,\n"
     ]
    },
    {
     "name": "stdout",
     "output_type": "stream",
     "text": [
      "Picking up BIDS files done\n",
      "Extracting parameters from /Fridge/users/julia/project_chill_dataset_paper/data/BIDS2/sub-02/ses-iemu/ieeg/sub-02_ses-iemu_task-rest_acq-clinical_run-1_ieeg.vhdr...\n",
      "Setting channel info structure...\n",
      "Loading BIDS data done\n",
      "Getting bad electrodes done\n",
      "03\n",
      "film\n",
      "Picking up BIDS files done\n",
      "Extracting parameters from /Fridge/users/julia/project_chill_dataset_paper/data/BIDS2/sub-03/ses-iemu/ieeg/sub-03_ses-iemu_task-film_acq-clinical_run-1_ieeg.vhdr...\n",
      "Setting channel info structure...\n",
      "Loading BIDS data done\n",
      "Getting bad electrodes done\n",
      "rest\n",
      "Picking up BIDS files done\n",
      "Extracting parameters from /Fridge/users/julia/project_chill_dataset_paper/data/BIDS2/sub-03/ses-iemu/ieeg/sub-03_ses-iemu_task-rest_acq-clinical_run-4_ieeg.vhdr...\n",
      "Setting channel info structure...\n",
      "Loading BIDS data done\n",
      "Getting bad electrodes done\n",
      "05\n",
      "film\n"
     ]
    },
    {
     "name": "stderr",
     "output_type": "stream",
     "text": [
      "/home/julia/Documents/project_chill_dataset_paper/git/ieeg-fmri-dataset-validation/ieeg_fmri_validation/iemu/classes.py:72: RuntimeWarning: Limited 1 annotation(s) that were expanding outside the data range.\n",
      "  self.raw = mne.io.read_raw_brainvision(self.raw_path,\n"
     ]
    },
    {
     "name": "stdout",
     "output_type": "stream",
     "text": [
      "Picking up BIDS files done\n",
      "Extracting parameters from /Fridge/users/julia/project_chill_dataset_paper/data/BIDS2/sub-05/ses-iemu/ieeg/sub-05_ses-iemu_task-film_acq-clinical_run-1_ieeg.vhdr...\n",
      "Setting channel info structure...\n",
      "Loading BIDS data done\n",
      "Getting bad electrodes done\n",
      "rest\n",
      "Picking up BIDS files done\n",
      "Extracting parameters from /Fridge/users/julia/project_chill_dataset_paper/data/BIDS2/sub-05/ses-iemu/ieeg/sub-05_ses-iemu_task-rest_acq-clinical_run-1_ieeg.vhdr...\n",
      "Setting channel info structure...\n",
      "Loading BIDS data done\n",
      "Getting bad electrodes done\n",
      "06\n",
      "film\n",
      "Picking up BIDS files done\n",
      "Extracting parameters from /Fridge/users/julia/project_chill_dataset_paper/data/BIDS2/sub-06/ses-iemu/ieeg/sub-06_ses-iemu_task-film_acq-clinical_run-1_ieeg.vhdr...\n",
      "Setting channel info structure...\n",
      "Loading BIDS data done\n",
      "Getting bad electrodes done\n",
      "rest\n",
      "Picking up BIDS files done\n",
      "Extracting parameters from /Fridge/users/julia/project_chill_dataset_paper/data/BIDS2/sub-06/ses-iemu/ieeg/sub-06_ses-iemu_task-rest_acq-clinical_run-1_ieeg.vhdr...\n",
      "Setting channel info structure...\n",
      "Loading BIDS data done\n",
      "Getting bad electrodes done\n",
      "07\n",
      "film\n",
      "Picking up BIDS files done\n",
      "Extracting parameters from /Fridge/users/julia/project_chill_dataset_paper/data/BIDS2/sub-07/ses-iemu/ieeg/sub-07_ses-iemu_task-film_acq-clinical_run-1_ieeg.vhdr...\n",
      "Setting channel info structure...\n",
      "Loading BIDS data done\n",
      "Getting bad electrodes done\n",
      "rest\n",
      "Picking up BIDS files done\n",
      "Extracting parameters from /Fridge/users/julia/project_chill_dataset_paper/data/BIDS2/sub-07/ses-iemu/ieeg/sub-07_ses-iemu_task-rest_acq-clinical_run-1_ieeg.vhdr...\n",
      "Setting channel info structure...\n",
      "Loading BIDS data done\n",
      "Getting bad electrodes done\n",
      "09\n",
      "film\n",
      "Picking up BIDS files done\n",
      "Extracting parameters from /Fridge/users/julia/project_chill_dataset_paper/data/BIDS2/sub-09/ses-iemu/ieeg/sub-09_ses-iemu_task-film_acq-clinical_run-2_ieeg.vhdr...\n",
      "Setting channel info structure...\n",
      "Loading BIDS data done\n",
      "Getting bad electrodes done\n",
      "rest\n",
      "Picking up BIDS files done\n",
      "Extracting parameters from /Fridge/users/julia/project_chill_dataset_paper/data/BIDS2/sub-09/ses-iemu/ieeg/sub-09_ses-iemu_task-rest_acq-clinical_run-1_ieeg.vhdr...\n",
      "Setting channel info structure...\n",
      "Loading BIDS data done\n",
      "Getting bad electrodes done\n",
      "10\n",
      "film\n",
      "Picking up BIDS files done\n",
      "Extracting parameters from /Fridge/users/julia/project_chill_dataset_paper/data/BIDS2/sub-10/ses-iemu/ieeg/sub-10_ses-iemu_task-film_acq-clinical_run-1_ieeg.vhdr...\n",
      "Setting channel info structure...\n",
      "Loading BIDS data done\n",
      "Getting bad electrodes done\n",
      "rest\n",
      "Picking up BIDS files done\n",
      "Extracting parameters from /Fridge/users/julia/project_chill_dataset_paper/data/BIDS2/sub-10/ses-iemu/ieeg/sub-10_ses-iemu_task-rest_acq-clinical_run-1_ieeg.vhdr...\n",
      "Setting channel info structure...\n",
      "Loading BIDS data done\n",
      "Getting bad electrodes done\n",
      "12\n",
      "film\n"
     ]
    },
    {
     "name": "stderr",
     "output_type": "stream",
     "text": [
      "/home/julia/Documents/project_chill_dataset_paper/git/ieeg-fmri-dataset-validation/ieeg_fmri_validation/iemu/classes.py:72: RuntimeWarning: Limited 1 annotation(s) that were expanding outside the data range.\n",
      "  self.raw = mne.io.read_raw_brainvision(self.raw_path,\n"
     ]
    },
    {
     "name": "stdout",
     "output_type": "stream",
     "text": [
      "Picking up BIDS files done\n",
      "Extracting parameters from /Fridge/users/julia/project_chill_dataset_paper/data/BIDS2/sub-12/ses-iemu/ieeg/sub-12_ses-iemu_task-film_acq-clinical_run-1_ieeg.vhdr...\n",
      "Setting channel info structure...\n",
      "Loading BIDS data done\n",
      "Getting bad electrodes done\n",
      "rest\n",
      "Picking up BIDS files done\n",
      "Extracting parameters from /Fridge/users/julia/project_chill_dataset_paper/data/BIDS2/sub-12/ses-iemu/ieeg/sub-12_ses-iemu_task-rest_acq-clinical_run-1_ieeg.vhdr...\n",
      "Setting channel info structure...\n",
      "Loading BIDS data done\n",
      "Getting bad electrodes done\n",
      "13\n",
      "film\n",
      "Picking up BIDS files done\n",
      "Extracting parameters from /Fridge/users/julia/project_chill_dataset_paper/data/BIDS2/sub-13/ses-iemu/ieeg/sub-13_ses-iemu_task-film_acq-clinical_run-1_ieeg.vhdr...\n",
      "Setting channel info structure...\n",
      "Loading BIDS data done\n",
      "Getting bad electrodes done\n",
      "rest\n",
      "Picking up BIDS files done\n",
      "Extracting parameters from /Fridge/users/julia/project_chill_dataset_paper/data/BIDS2/sub-13/ses-iemu/ieeg/sub-13_ses-iemu_task-rest_acq-clinical_run-1_ieeg.vhdr...\n",
      "Setting channel info structure...\n",
      "Loading BIDS data done\n",
      "Getting bad electrodes done\n",
      "14\n",
      "film\n"
     ]
    },
    {
     "name": "stderr",
     "output_type": "stream",
     "text": [
      "/home/julia/Documents/project_chill_dataset_paper/git/ieeg-fmri-dataset-validation/ieeg_fmri_validation/iemu/classes.py:72: RuntimeWarning: Limited 1 annotation(s) that were expanding outside the data range.\n",
      "  self.raw = mne.io.read_raw_brainvision(self.raw_path,\n"
     ]
    },
    {
     "name": "stdout",
     "output_type": "stream",
     "text": [
      "Picking up BIDS files done\n",
      "Extracting parameters from /Fridge/users/julia/project_chill_dataset_paper/data/BIDS2/sub-14/ses-iemu/ieeg/sub-14_ses-iemu_task-film_acq-clinical_run-1_ieeg.vhdr...\n",
      "Setting channel info structure...\n",
      "Loading BIDS data done\n",
      "Getting bad electrodes done\n",
      "rest\n",
      "Picking up BIDS files done\n",
      "Extracting parameters from /Fridge/users/julia/project_chill_dataset_paper/data/BIDS2/sub-14/ses-iemu/ieeg/sub-14_ses-iemu_task-rest_acq-clinical_run-1_ieeg.vhdr...\n",
      "Setting channel info structure...\n",
      "Loading BIDS data done\n",
      "Getting bad electrodes done\n",
      "16\n",
      "film\n"
     ]
    },
    {
     "name": "stderr",
     "output_type": "stream",
     "text": [
      "/home/julia/Documents/project_chill_dataset_paper/git/ieeg-fmri-dataset-validation/ieeg_fmri_validation/iemu/classes.py:72: RuntimeWarning: Limited 1 annotation(s) that were expanding outside the data range.\n",
      "  self.raw = mne.io.read_raw_brainvision(self.raw_path,\n"
     ]
    },
    {
     "name": "stdout",
     "output_type": "stream",
     "text": [
      "Picking up BIDS files done\n",
      "Extracting parameters from /Fridge/users/julia/project_chill_dataset_paper/data/BIDS2/sub-16/ses-iemu/ieeg/sub-16_ses-iemu_task-film_acq-clinical_run-1_ieeg.vhdr...\n",
      "Setting channel info structure...\n",
      "Loading BIDS data done\n",
      "Getting bad electrodes done\n",
      "rest\n",
      "Picking up BIDS files done\n",
      "Extracting parameters from /Fridge/users/julia/project_chill_dataset_paper/data/BIDS2/sub-16/ses-iemu/ieeg/sub-16_ses-iemu_task-rest_acq-clinical_run-1_ieeg.vhdr...\n",
      "Setting channel info structure...\n",
      "Loading BIDS data done\n",
      "Getting bad electrodes done\n",
      "17\n",
      "film\n"
     ]
    },
    {
     "name": "stderr",
     "output_type": "stream",
     "text": [
      "/home/julia/Documents/project_chill_dataset_paper/git/ieeg-fmri-dataset-validation/ieeg_fmri_validation/iemu/classes.py:72: RuntimeWarning: Limited 1 annotation(s) that were expanding outside the data range.\n",
      "  self.raw = mne.io.read_raw_brainvision(self.raw_path,\n"
     ]
    },
    {
     "name": "stdout",
     "output_type": "stream",
     "text": [
      "Picking up BIDS files done\n",
      "Extracting parameters from /Fridge/users/julia/project_chill_dataset_paper/data/BIDS2/sub-17/ses-iemu/ieeg/sub-17_ses-iemu_task-film_acq-clinical_run-1_ieeg.vhdr...\n",
      "Setting channel info structure...\n",
      "Loading BIDS data done\n",
      "Getting bad electrodes done\n",
      "rest\n",
      "Picking up BIDS files done\n",
      "Extracting parameters from /Fridge/users/julia/project_chill_dataset_paper/data/BIDS2/sub-17/ses-iemu/ieeg/sub-17_ses-iemu_task-rest_acq-clinical_run-1_ieeg.vhdr...\n",
      "Setting channel info structure...\n",
      "Loading BIDS data done\n",
      "Getting bad electrodes done\n",
      "18\n",
      "film\n"
     ]
    },
    {
     "name": "stderr",
     "output_type": "stream",
     "text": [
      "/home/julia/Documents/project_chill_dataset_paper/git/ieeg-fmri-dataset-validation/ieeg_fmri_validation/iemu/classes.py:72: RuntimeWarning: Limited 1 annotation(s) that were expanding outside the data range.\n",
      "  self.raw = mne.io.read_raw_brainvision(self.raw_path,\n"
     ]
    },
    {
     "name": "stdout",
     "output_type": "stream",
     "text": [
      "Picking up BIDS files done\n",
      "Extracting parameters from /Fridge/users/julia/project_chill_dataset_paper/data/BIDS2/sub-18/ses-iemu/ieeg/sub-18_ses-iemu_task-film_acq-clinical_run-1_ieeg.vhdr...\n",
      "Setting channel info structure...\n",
      "Loading BIDS data done\n",
      "Getting bad electrodes done\n",
      "rest\n",
      "Picking up BIDS files done\n",
      "Extracting parameters from /Fridge/users/julia/project_chill_dataset_paper/data/BIDS2/sub-18/ses-iemu/ieeg/sub-18_ses-iemu_task-rest_acq-clinical_run-1_ieeg.vhdr...\n",
      "Setting channel info structure...\n",
      "Loading BIDS data done\n",
      "Getting bad electrodes done\n",
      "19\n",
      "film\n"
     ]
    },
    {
     "name": "stderr",
     "output_type": "stream",
     "text": [
      "/home/julia/Documents/project_chill_dataset_paper/git/ieeg-fmri-dataset-validation/ieeg_fmri_validation/iemu/classes.py:72: RuntimeWarning: Limited 1 annotation(s) that were expanding outside the data range.\n",
      "  self.raw = mne.io.read_raw_brainvision(self.raw_path,\n"
     ]
    },
    {
     "name": "stdout",
     "output_type": "stream",
     "text": [
      "Picking up BIDS files done\n",
      "Extracting parameters from /Fridge/users/julia/project_chill_dataset_paper/data/BIDS2/sub-19/ses-iemu/ieeg/sub-19_ses-iemu_task-film_acq-clinical_run-1_ieeg.vhdr...\n",
      "Setting channel info structure...\n",
      "Loading BIDS data done\n",
      "Getting bad electrodes done\n",
      "rest\n",
      "Picking up BIDS files done\n",
      "Extracting parameters from /Fridge/users/julia/project_chill_dataset_paper/data/BIDS2/sub-19/ses-iemu/ieeg/sub-19_ses-iemu_task-rest_acq-clinical_run-1_ieeg.vhdr...\n",
      "Setting channel info structure...\n",
      "Loading BIDS data done\n",
      "Getting bad electrodes done\n",
      "20\n",
      "film\n",
      "Picking up BIDS files done\n",
      "Extracting parameters from /Fridge/users/julia/project_chill_dataset_paper/data/BIDS2/sub-20/ses-iemu/ieeg/sub-20_ses-iemu_task-film_acq-clinical_run-1_ieeg.vhdr...\n",
      "Setting channel info structure...\n",
      "Loading BIDS data done\n",
      "Getting bad electrodes done\n",
      "rest\n",
      "Picking up BIDS files done\n",
      "Extracting parameters from /Fridge/users/julia/project_chill_dataset_paper/data/BIDS2/sub-20/ses-iemu/ieeg/sub-20_ses-iemu_task-rest_acq-clinical_run-1_ieeg.vhdr...\n",
      "Setting channel info structure...\n",
      "Loading BIDS data done\n",
      "Getting bad electrodes done\n",
      "21\n",
      "film\n"
     ]
    },
    {
     "name": "stderr",
     "output_type": "stream",
     "text": [
      "/home/julia/Documents/project_chill_dataset_paper/git/ieeg-fmri-dataset-validation/ieeg_fmri_validation/iemu/classes.py:72: RuntimeWarning: Limited 1 annotation(s) that were expanding outside the data range.\n",
      "  self.raw = mne.io.read_raw_brainvision(self.raw_path,\n"
     ]
    },
    {
     "name": "stdout",
     "output_type": "stream",
     "text": [
      "Picking up BIDS files done\n",
      "Extracting parameters from /Fridge/users/julia/project_chill_dataset_paper/data/BIDS2/sub-21/ses-iemu/ieeg/sub-21_ses-iemu_task-film_acq-clinical_run-1_ieeg.vhdr...\n",
      "Setting channel info structure...\n",
      "Loading BIDS data done\n",
      "Getting bad electrodes done\n",
      "rest\n",
      "Picking up BIDS files done\n",
      "Extracting parameters from /Fridge/users/julia/project_chill_dataset_paper/data/BIDS2/sub-21/ses-iemu/ieeg/sub-21_ses-iemu_task-rest_acq-clinical_run-1_ieeg.vhdr...\n",
      "Setting channel info structure...\n",
      "Loading BIDS data done\n",
      "Getting bad electrodes done\n",
      "22\n",
      "film\n",
      "Picking up BIDS files done\n",
      "Extracting parameters from /Fridge/users/julia/project_chill_dataset_paper/data/BIDS2/sub-22/ses-iemu/ieeg/sub-22_ses-iemu_task-film_acq-clinical_run-1_ieeg.vhdr...\n",
      "Setting channel info structure...\n",
      "Loading BIDS data done\n",
      "Getting bad electrodes done\n",
      "rest\n",
      "Picking up BIDS files done\n",
      "Extracting parameters from /Fridge/users/julia/project_chill_dataset_paper/data/BIDS2/sub-22/ses-iemu/ieeg/sub-22_ses-iemu_task-rest_acq-clinical_run-1_ieeg.vhdr...\n",
      "Setting channel info structure...\n",
      "Loading BIDS data done\n",
      "Getting bad electrodes done\n",
      "23\n",
      "film\n",
      "Picking up BIDS files done\n",
      "Extracting parameters from /Fridge/users/julia/project_chill_dataset_paper/data/BIDS2/sub-23/ses-iemu/ieeg/sub-23_ses-iemu_task-film_acq-clinical_run-1_ieeg.vhdr...\n",
      "Setting channel info structure...\n",
      "Loading BIDS data done\n",
      "Getting bad electrodes done\n",
      "rest\n",
      "Picking up BIDS files done\n",
      "Extracting parameters from /Fridge/users/julia/project_chill_dataset_paper/data/BIDS2/sub-23/ses-iemu/ieeg/sub-23_ses-iemu_task-rest_acq-clinical_run-1_ieeg.vhdr...\n",
      "Setting channel info structure...\n",
      "Loading BIDS data done\n",
      "Getting bad electrodes done\n",
      "24\n",
      "film\n",
      "Picking up BIDS files done\n",
      "Extracting parameters from /Fridge/users/julia/project_chill_dataset_paper/data/BIDS2/sub-24/ses-iemu/ieeg/sub-24_ses-iemu_task-film_acq-clinical_run-1_ieeg.vhdr...\n",
      "Setting channel info structure...\n",
      "Loading BIDS data done\n",
      "Getting bad electrodes done\n",
      "rest\n",
      "Picking up BIDS files done\n",
      "Extracting parameters from /Fridge/users/julia/project_chill_dataset_paper/data/BIDS2/sub-24/ses-iemu/ieeg/sub-24_ses-iemu_task-rest_acq-clinical_run-1_ieeg.vhdr...\n",
      "Setting channel info structure...\n",
      "Loading BIDS data done\n",
      "Getting bad electrodes done\n",
      "25\n",
      "film\n"
     ]
    },
    {
     "name": "stderr",
     "output_type": "stream",
     "text": [
      "/home/julia/Documents/project_chill_dataset_paper/git/ieeg-fmri-dataset-validation/ieeg_fmri_validation/iemu/classes.py:72: RuntimeWarning: Limited 1 annotation(s) that were expanding outside the data range.\n",
      "  self.raw = mne.io.read_raw_brainvision(self.raw_path,\n"
     ]
    },
    {
     "name": "stdout",
     "output_type": "stream",
     "text": [
      "Picking up BIDS files done\n",
      "Extracting parameters from /Fridge/users/julia/project_chill_dataset_paper/data/BIDS2/sub-25/ses-iemu/ieeg/sub-25_ses-iemu_task-film_acq-clinical_run-1_ieeg.vhdr...\n",
      "Setting channel info structure...\n",
      "Loading BIDS data done\n",
      "Getting bad electrodes done\n",
      "rest\n"
     ]
    },
    {
     "name": "stderr",
     "output_type": "stream",
     "text": [
      "/home/julia/Documents/project_chill_dataset_paper/git/ieeg-fmri-dataset-validation/ieeg_fmri_validation/iemu/classes.py:72: RuntimeWarning: Limited 1 annotation(s) that were expanding outside the data range.\n",
      "  self.raw = mne.io.read_raw_brainvision(self.raw_path,\n"
     ]
    },
    {
     "name": "stdout",
     "output_type": "stream",
     "text": [
      "Picking up BIDS files done\n",
      "Extracting parameters from /Fridge/users/julia/project_chill_dataset_paper/data/BIDS2/sub-25/ses-iemu/ieeg/sub-25_ses-iemu_task-rest_acq-clinical_run-1_ieeg.vhdr...\n",
      "Setting channel info structure...\n",
      "Loading BIDS data done\n",
      "Getting bad electrodes done\n",
      "26\n",
      "film\n",
      "Picking up BIDS files done\n",
      "Extracting parameters from /Fridge/users/julia/project_chill_dataset_paper/data/BIDS2/sub-26/ses-iemu/ieeg/sub-26_ses-iemu_task-film_acq-clinical_run-1_ieeg.vhdr...\n",
      "Setting channel info structure...\n",
      "Loading BIDS data done\n",
      "Getting bad electrodes done\n",
      "rest\n",
      "Picking up BIDS files done\n",
      "Extracting parameters from /Fridge/users/julia/project_chill_dataset_paper/data/BIDS2/sub-26/ses-iemu/ieeg/sub-26_ses-iemu_task-rest_acq-clinical_run-1_ieeg.vhdr...\n",
      "Setting channel info structure...\n",
      "Loading BIDS data done\n",
      "Getting bad electrodes done\n",
      "27\n",
      "film\n",
      "Picking up BIDS files done\n",
      "Extracting parameters from /Fridge/users/julia/project_chill_dataset_paper/data/BIDS2/sub-27/ses-iemu/ieeg/sub-27_ses-iemu_task-film_acq-clinical_run-1_ieeg.vhdr...\n",
      "Setting channel info structure...\n",
      "Loading BIDS data done\n",
      "Getting bad electrodes done\n",
      "rest\n",
      "Picking up BIDS files done\n",
      "Extracting parameters from /Fridge/users/julia/project_chill_dataset_paper/data/BIDS2/sub-27/ses-iemu/ieeg/sub-27_ses-iemu_task-rest_acq-clinical_run-1_ieeg.vhdr...\n",
      "Setting channel info structure...\n",
      "Loading BIDS data done\n",
      "Getting bad electrodes done\n",
      "28\n",
      "film\n",
      "Picking up BIDS files done\n",
      "Extracting parameters from /Fridge/users/julia/project_chill_dataset_paper/data/BIDS2/sub-28/ses-iemu/ieeg/sub-28_ses-iemu_task-film_acq-clinical_run-1_ieeg.vhdr...\n",
      "Setting channel info structure...\n",
      "Loading BIDS data done\n",
      "Getting bad electrodes done\n",
      "rest\n"
     ]
    },
    {
     "name": "stderr",
     "output_type": "stream",
     "text": [
      "/home/julia/Documents/project_chill_dataset_paper/git/ieeg-fmri-dataset-validation/ieeg_fmri_validation/iemu/classes.py:72: RuntimeWarning: Limited 2 annotation(s) that were expanding outside the data range.\n",
      "  self.raw = mne.io.read_raw_brainvision(self.raw_path,\n"
     ]
    },
    {
     "name": "stdout",
     "output_type": "stream",
     "text": [
      "Picking up BIDS files done\n",
      "Extracting parameters from /Fridge/users/julia/project_chill_dataset_paper/data/BIDS2/sub-28/ses-iemu/ieeg/sub-28_ses-iemu_task-rest_acq-clinical_run-1_ieeg.vhdr...\n",
      "Setting channel info structure...\n",
      "Loading BIDS data done\n",
      "Getting bad electrodes done\n",
      "30\n",
      "film\n",
      "Picking up BIDS files done\n",
      "Extracting parameters from /Fridge/users/julia/project_chill_dataset_paper/data/BIDS2/sub-30/ses-iemu/ieeg/sub-30_ses-iemu_task-film_acq-clinical_run-1_ieeg.vhdr...\n",
      "Setting channel info structure...\n",
      "Loading BIDS data done\n",
      "Getting bad electrodes done\n",
      "rest\n",
      "Picking up BIDS files done\n",
      "Extracting parameters from /Fridge/users/julia/project_chill_dataset_paper/data/BIDS2/sub-30/ses-iemu/ieeg/sub-30_ses-iemu_task-rest_acq-clinical_run-1_ieeg.vhdr...\n",
      "Setting channel info structure...\n",
      "Loading BIDS data done\n",
      "Getting bad electrodes done\n",
      "30\n",
      "film\n",
      "Picking up BIDS files done\n",
      "Extracting parameters from /Fridge/users/julia/project_chill_dataset_paper/data/BIDS2/sub-30/ses-iemu/ieeg/sub-30_ses-iemu_task-film_acq-HDgrid_run-1_ieeg.vhdr...\n",
      "Setting channel info structure...\n",
      "Loading BIDS data done\n",
      "Getting bad electrodes done\n",
      "rest\n",
      "Picking up BIDS files done\n",
      "Extracting parameters from /Fridge/users/julia/project_chill_dataset_paper/data/BIDS2/sub-30/ses-iemu/ieeg/sub-30_ses-iemu_task-rest_acq-HDgrid_run-1_ieeg.vhdr...\n",
      "Setting channel info structure...\n",
      "Loading BIDS data done\n",
      "Getting bad electrodes done\n",
      "31\n",
      "film\n",
      "Picking up BIDS files done\n",
      "Extracting parameters from /Fridge/users/julia/project_chill_dataset_paper/data/BIDS2/sub-31/ses-iemu/ieeg/sub-31_ses-iemu_task-film_acq-clinical_run-1_ieeg.vhdr...\n",
      "Setting channel info structure...\n",
      "Loading BIDS data done\n",
      "Getting bad electrodes done\n",
      "rest\n",
      "Picking up BIDS files done\n",
      "Extracting parameters from /Fridge/users/julia/project_chill_dataset_paper/data/BIDS2/sub-31/ses-iemu/ieeg/sub-31_ses-iemu_task-rest_acq-clinical_run-1_ieeg.vhdr...\n",
      "Setting channel info structure...\n",
      "Loading BIDS data done\n",
      "Getting bad electrodes done\n",
      "32\n",
      "film\n"
     ]
    },
    {
     "name": "stderr",
     "output_type": "stream",
     "text": [
      "/home/julia/Documents/project_chill_dataset_paper/git/ieeg-fmri-dataset-validation/ieeg_fmri_validation/iemu/classes.py:72: RuntimeWarning: Limited 1 annotation(s) that were expanding outside the data range.\n",
      "  self.raw = mne.io.read_raw_brainvision(self.raw_path,\n"
     ]
    },
    {
     "name": "stdout",
     "output_type": "stream",
     "text": [
      "Picking up BIDS files done\n",
      "Extracting parameters from /Fridge/users/julia/project_chill_dataset_paper/data/BIDS2/sub-32/ses-iemu/ieeg/sub-32_ses-iemu_task-film_acq-clinical_run-1_ieeg.vhdr...\n",
      "Setting channel info structure...\n",
      "Loading BIDS data done\n",
      "Getting bad electrodes done\n",
      "rest\n",
      "Picking up BIDS files done\n",
      "Extracting parameters from /Fridge/users/julia/project_chill_dataset_paper/data/BIDS2/sub-32/ses-iemu/ieeg/sub-32_ses-iemu_task-rest_acq-clinical_run-1_ieeg.vhdr...\n",
      "Setting channel info structure...\n",
      "Loading BIDS data done\n",
      "Getting bad electrodes done\n",
      "33\n",
      "film\n",
      "Picking up BIDS files done\n",
      "Extracting parameters from /Fridge/users/julia/project_chill_dataset_paper/data/BIDS2/sub-33/ses-iemu/ieeg/sub-33_ses-iemu_task-film_acq-clinical_run-1_ieeg.vhdr...\n",
      "Setting channel info structure...\n",
      "Loading BIDS data done\n",
      "Getting bad electrodes done\n",
      "34\n",
      "film\n",
      "Picking up BIDS files done\n",
      "Extracting parameters from /Fridge/users/julia/project_chill_dataset_paper/data/BIDS2/sub-34/ses-iemu/ieeg/sub-34_ses-iemu_task-film_acq-clinical_run-1_ieeg.vhdr...\n",
      "Setting channel info structure...\n",
      "Loading BIDS data done\n",
      "Getting bad electrodes done\n",
      "rest\n",
      "Picking up BIDS files done\n",
      "Extracting parameters from /Fridge/users/julia/project_chill_dataset_paper/data/BIDS2/sub-34/ses-iemu/ieeg/sub-34_ses-iemu_task-rest_acq-clinical_run-1_ieeg.vhdr...\n",
      "Setting channel info structure...\n",
      "Loading BIDS data done\n",
      "Getting bad electrodes done\n",
      "36\n",
      "film\n",
      "Picking up BIDS files done\n",
      "Extracting parameters from /Fridge/users/julia/project_chill_dataset_paper/data/BIDS2/sub-36/ses-iemu/ieeg/sub-36_ses-iemu_task-film_acq-clinical_run-1_ieeg.vhdr...\n",
      "Setting channel info structure...\n",
      "Loading BIDS data done\n",
      "Getting bad electrodes done\n",
      "rest\n",
      "Picking up BIDS files done\n",
      "Extracting parameters from /Fridge/users/julia/project_chill_dataset_paper/data/BIDS2/sub-36/ses-iemu/ieeg/sub-36_ses-iemu_task-rest_acq-clinical_run-1_ieeg.vhdr...\n",
      "Setting channel info structure...\n",
      "Loading BIDS data done\n",
      "Getting bad electrodes done\n",
      "36\n",
      "film\n",
      "Picking up BIDS files done\n",
      "Extracting parameters from /Fridge/users/julia/project_chill_dataset_paper/data/BIDS2/sub-36/ses-iemu/ieeg/sub-36_ses-iemu_task-film_acq-HDgrid_run-1_ieeg.vhdr...\n",
      "Setting channel info structure...\n",
      "Loading BIDS data done\n",
      "Getting bad electrodes done\n",
      "rest\n",
      "Picking up BIDS files done\n",
      "Extracting parameters from /Fridge/users/julia/project_chill_dataset_paper/data/BIDS2/sub-36/ses-iemu/ieeg/sub-36_ses-iemu_task-rest_acq-HDgrid_run-1_ieeg.vhdr...\n",
      "Setting channel info structure...\n",
      "Loading BIDS data done\n",
      "Getting bad electrodes done\n",
      "37\n",
      "film\n",
      "Picking up BIDS files done\n",
      "Extracting parameters from /Fridge/users/julia/project_chill_dataset_paper/data/BIDS2/sub-37/ses-iemu/ieeg/sub-37_ses-iemu_task-film_acq-clinical_run-2_ieeg.vhdr...\n",
      "Setting channel info structure...\n",
      "Loading BIDS data done\n",
      "Getting bad electrodes done\n",
      "rest\n",
      "Picking up BIDS files done\n",
      "Extracting parameters from /Fridge/users/julia/project_chill_dataset_paper/data/BIDS2/sub-37/ses-iemu/ieeg/sub-37_ses-iemu_task-rest_acq-clinical_run-1_ieeg.vhdr...\n",
      "Setting channel info structure...\n",
      "Loading BIDS data done\n",
      "Getting bad electrodes done\n",
      "38\n",
      "film\n",
      "Picking up BIDS files done\n",
      "Extracting parameters from /Fridge/users/julia/project_chill_dataset_paper/data/BIDS2/sub-38/ses-iemu/ieeg/sub-38_ses-iemu_task-film_acq-clinical_run-1_ieeg.vhdr...\n",
      "Setting channel info structure...\n",
      "Loading BIDS data done\n",
      "Getting bad electrodes done\n",
      "rest\n",
      "Picking up BIDS files done\n",
      "Extracting parameters from /Fridge/users/julia/project_chill_dataset_paper/data/BIDS2/sub-38/ses-iemu/ieeg/sub-38_ses-iemu_task-rest_acq-clinical_run-1_ieeg.vhdr...\n",
      "Setting channel info structure...\n",
      "Loading BIDS data done\n",
      "Getting bad electrodes done\n",
      "39\n",
      "film\n",
      "Picking up BIDS files done\n",
      "Extracting parameters from /Fridge/users/julia/project_chill_dataset_paper/data/BIDS2/sub-39/ses-iemu/ieeg/sub-39_ses-iemu_task-film_acq-clinical_run-1_ieeg.vhdr...\n",
      "Setting channel info structure...\n",
      "Loading BIDS data done\n",
      "Getting bad electrodes done\n",
      "rest\n"
     ]
    },
    {
     "name": "stderr",
     "output_type": "stream",
     "text": [
      "/home/julia/Documents/project_chill_dataset_paper/git/ieeg-fmri-dataset-validation/ieeg_fmri_validation/iemu/classes.py:72: RuntimeWarning: Limited 1 annotation(s) that were expanding outside the data range.\n",
      "  self.raw = mne.io.read_raw_brainvision(self.raw_path,\n"
     ]
    },
    {
     "name": "stdout",
     "output_type": "stream",
     "text": [
      "Picking up BIDS files done\n",
      "Extracting parameters from /Fridge/users/julia/project_chill_dataset_paper/data/BIDS2/sub-39/ses-iemu/ieeg/sub-39_ses-iemu_task-rest_acq-clinical_run-1_ieeg.vhdr...\n",
      "Setting channel info structure...\n",
      "Loading BIDS data done\n",
      "Getting bad electrodes done\n",
      "40\n",
      "film\n",
      "Picking up BIDS files done\n",
      "Extracting parameters from /Fridge/users/julia/project_chill_dataset_paper/data/BIDS2/sub-40/ses-iemu/ieeg/sub-40_ses-iemu_task-film_acq-clinical_run-1_ieeg.vhdr...\n",
      "Setting channel info structure...\n",
      "Loading BIDS data done\n",
      "Getting bad electrodes done\n",
      "rest\n"
     ]
    },
    {
     "name": "stderr",
     "output_type": "stream",
     "text": [
      "/home/julia/Documents/project_chill_dataset_paper/git/ieeg-fmri-dataset-validation/ieeg_fmri_validation/iemu/classes.py:72: RuntimeWarning: Limited 1 annotation(s) that were expanding outside the data range.\n",
      "  self.raw = mne.io.read_raw_brainvision(self.raw_path,\n"
     ]
    },
    {
     "name": "stdout",
     "output_type": "stream",
     "text": [
      "Picking up BIDS files done\n",
      "Extracting parameters from /Fridge/users/julia/project_chill_dataset_paper/data/BIDS2/sub-40/ses-iemu/ieeg/sub-40_ses-iemu_task-rest_acq-clinical_run-1_ieeg.vhdr...\n",
      "Setting channel info structure...\n",
      "Loading BIDS data done\n",
      "Getting bad electrodes done\n",
      "41\n",
      "film\n",
      "Picking up BIDS files done\n",
      "Extracting parameters from /Fridge/users/julia/project_chill_dataset_paper/data/BIDS2/sub-41/ses-iemu/ieeg/sub-41_ses-iemu_task-film_acq-clinical_run-1_ieeg.vhdr...\n",
      "Setting channel info structure...\n",
      "Loading BIDS data done\n",
      "Getting bad electrodes done\n",
      "rest\n",
      "Picking up BIDS files done\n",
      "Extracting parameters from /Fridge/users/julia/project_chill_dataset_paper/data/BIDS2/sub-41/ses-iemu/ieeg/sub-41_ses-iemu_task-rest_acq-clinical_run-1_ieeg.vhdr...\n",
      "Setting channel info structure...\n",
      "Loading BIDS data done\n",
      "Getting bad electrodes done\n",
      "42\n",
      "film\n",
      "Picking up BIDS files done\n",
      "Extracting parameters from /Fridge/users/julia/project_chill_dataset_paper/data/BIDS2/sub-42/ses-iemu/ieeg/sub-42_ses-iemu_task-film_acq-clinical_run-1_ieeg.vhdr...\n",
      "Setting channel info structure...\n",
      "Loading BIDS data done\n",
      "Getting bad electrodes done\n",
      "rest\n",
      "Picking up BIDS files done\n",
      "Extracting parameters from /Fridge/users/julia/project_chill_dataset_paper/data/BIDS2/sub-42/ses-iemu/ieeg/sub-42_ses-iemu_task-rest_acq-clinical_run-1_ieeg.vhdr...\n",
      "Setting channel info structure...\n",
      "Loading BIDS data done\n",
      "Getting bad electrodes done\n",
      "43\n",
      "film\n",
      "Picking up BIDS files done\n",
      "Extracting parameters from /Fridge/users/julia/project_chill_dataset_paper/data/BIDS2/sub-43/ses-iemu/ieeg/sub-43_ses-iemu_task-film_acq-clinical_run-1_ieeg.vhdr...\n",
      "Setting channel info structure...\n",
      "Loading BIDS data done\n",
      "Getting bad electrodes done\n",
      "rest\n",
      "Picking up BIDS files done\n",
      "Extracting parameters from /Fridge/users/julia/project_chill_dataset_paper/data/BIDS2/sub-43/ses-iemu/ieeg/sub-43_ses-iemu_task-rest_acq-clinical_run-1_ieeg.vhdr...\n",
      "Setting channel info structure...\n",
      "Loading BIDS data done\n",
      "Getting bad electrodes done\n",
      "45\n",
      "film\n"
     ]
    },
    {
     "name": "stderr",
     "output_type": "stream",
     "text": [
      "/home/julia/Documents/project_chill_dataset_paper/git/ieeg-fmri-dataset-validation/ieeg_fmri_validation/iemu/classes.py:72: RuntimeWarning: Limited 1 annotation(s) that were expanding outside the data range.\n",
      "  self.raw = mne.io.read_raw_brainvision(self.raw_path,\n"
     ]
    },
    {
     "name": "stdout",
     "output_type": "stream",
     "text": [
      "Picking up BIDS files done\n",
      "Extracting parameters from /Fridge/users/julia/project_chill_dataset_paper/data/BIDS2/sub-45/ses-iemu/ieeg/sub-45_ses-iemu_task-film_acq-clinical_run-1_ieeg.vhdr...\n",
      "Setting channel info structure...\n",
      "Loading BIDS data done\n",
      "Getting bad electrodes done\n",
      "rest\n",
      "Picking up BIDS files done\n",
      "Extracting parameters from /Fridge/users/julia/project_chill_dataset_paper/data/BIDS2/sub-45/ses-iemu/ieeg/sub-45_ses-iemu_task-rest_acq-clinical_run-1_ieeg.vhdr...\n",
      "Setting channel info structure...\n",
      "Loading BIDS data done\n",
      "Getting bad electrodes done\n",
      "45\n",
      "film\n",
      "Picking up BIDS files done\n",
      "Extracting parameters from /Fridge/users/julia/project_chill_dataset_paper/data/BIDS2/sub-45/ses-iemu/ieeg/sub-45_ses-iemu_task-film_acq-HDgrid_run-2_ieeg.vhdr...\n",
      "Setting channel info structure...\n",
      "Loading BIDS data done\n",
      "Getting bad electrodes done\n",
      "rest\n",
      "Picking up BIDS files done\n",
      "Extracting parameters from /Fridge/users/julia/project_chill_dataset_paper/data/BIDS2/sub-45/ses-iemu/ieeg/sub-45_ses-iemu_task-rest_acq-HDgrid_run-2_ieeg.vhdr...\n",
      "Setting channel info structure...\n",
      "Loading BIDS data done\n",
      "Getting bad electrodes done\n",
      "46\n",
      "film\n",
      "Picking up BIDS files done\n",
      "Extracting parameters from /Fridge/users/julia/project_chill_dataset_paper/data/BIDS2/sub-46/ses-iemu/ieeg/sub-46_ses-iemu_task-film_acq-clinical_run-1_ieeg.vhdr...\n",
      "Setting channel info structure...\n",
      "Loading BIDS data done\n",
      "Getting bad electrodes done\n",
      "rest\n",
      "Picking up BIDS files done\n",
      "Extracting parameters from /Fridge/users/julia/project_chill_dataset_paper/data/BIDS2/sub-46/ses-iemu/ieeg/sub-46_ses-iemu_task-rest_acq-clinical_run-1_ieeg.vhdr...\n",
      "Setting channel info structure...\n",
      "Loading BIDS data done\n",
      "Getting bad electrodes done\n",
      "48\n",
      "film\n",
      "Picking up BIDS files done\n",
      "Extracting parameters from /Fridge/users/julia/project_chill_dataset_paper/data/BIDS2/sub-48/ses-iemu/ieeg/sub-48_ses-iemu_task-film_acq-clinical_run-1_ieeg.vhdr...\n",
      "Setting channel info structure...\n",
      "Loading BIDS data done\n",
      "Getting bad electrodes done\n",
      "rest\n",
      "Picking up BIDS files done\n",
      "Extracting parameters from /Fridge/users/julia/project_chill_dataset_paper/data/BIDS2/sub-48/ses-iemu/ieeg/sub-48_ses-iemu_task-rest_acq-clinical_run-1_ieeg.vhdr...\n",
      "Setting channel info structure...\n",
      "Loading BIDS data done\n",
      "Getting bad electrodes done\n",
      "49\n",
      "film\n",
      "Picking up BIDS files done\n",
      "Extracting parameters from /Fridge/users/julia/project_chill_dataset_paper/data/BIDS2/sub-49/ses-iemu/ieeg/sub-49_ses-iemu_task-film_acq-clinical_run-1_ieeg.vhdr...\n",
      "Setting channel info structure...\n",
      "Loading BIDS data done\n",
      "Getting bad electrodes done\n",
      "rest\n",
      "Picking up BIDS files done\n",
      "Extracting parameters from /Fridge/users/julia/project_chill_dataset_paper/data/BIDS2/sub-49/ses-iemu/ieeg/sub-49_ses-iemu_task-rest_acq-clinical_run-1_ieeg.vhdr...\n",
      "Setting channel info structure...\n",
      "Loading BIDS data done\n",
      "Getting bad electrodes done\n",
      "50\n",
      "film\n",
      "Picking up BIDS files done\n",
      "Extracting parameters from /Fridge/users/julia/project_chill_dataset_paper/data/BIDS2/sub-50/ses-iemu/ieeg/sub-50_ses-iemu_task-film_acq-clinical_run-1_ieeg.vhdr...\n",
      "Setting channel info structure...\n",
      "Loading BIDS data done\n",
      "Getting bad electrodes done\n",
      "rest\n",
      "Picking up BIDS files done\n",
      "Extracting parameters from /Fridge/users/julia/project_chill_dataset_paper/data/BIDS2/sub-50/ses-iemu/ieeg/sub-50_ses-iemu_task-rest_acq-clinical_run-1_ieeg.vhdr...\n",
      "Setting channel info structure...\n",
      "Loading BIDS data done\n",
      "Getting bad electrodes done\n",
      "51\n",
      "film\n",
      "Picking up BIDS files done\n",
      "Extracting parameters from /Fridge/users/julia/project_chill_dataset_paper/data/BIDS2/sub-51/ses-iemu/ieeg/sub-51_ses-iemu_task-film_acq-clinical_run-1_ieeg.vhdr...\n",
      "Setting channel info structure...\n",
      "Loading BIDS data done\n",
      "Getting bad electrodes done\n",
      "rest\n",
      "Picking up BIDS files done\n",
      "Extracting parameters from /Fridge/users/julia/project_chill_dataset_paper/data/BIDS2/sub-51/ses-iemu/ieeg/sub-51_ses-iemu_task-rest_acq-clinical_run-1_ieeg.vhdr...\n",
      "Setting channel info structure...\n",
      "Loading BIDS data done\n",
      "Getting bad electrodes done\n",
      "54\n",
      "film\n",
      "Picking up BIDS files done\n",
      "Extracting parameters from /Fridge/users/julia/project_chill_dataset_paper/data/BIDS2/sub-54/ses-iemu/ieeg/sub-54_ses-iemu_task-film_acq-clinical_run-2_ieeg.vhdr...\n",
      "Setting channel info structure...\n",
      "Loading BIDS data done\n",
      "Getting bad electrodes done\n",
      "rest\n",
      "Picking up BIDS files done\n",
      "Extracting parameters from /Fridge/users/julia/project_chill_dataset_paper/data/BIDS2/sub-54/ses-iemu/ieeg/sub-54_ses-iemu_task-rest_acq-clinical_run-1_ieeg.vhdr...\n",
      "Setting channel info structure...\n",
      "Loading BIDS data done\n",
      "Getting bad electrodes done\n",
      "55\n",
      "film\n",
      "Picking up BIDS files done\n",
      "Extracting parameters from /Fridge/users/julia/project_chill_dataset_paper/data/BIDS2/sub-55/ses-iemu/ieeg/sub-55_ses-iemu_task-film_acq-clinical_run-1_ieeg.vhdr...\n",
      "Setting channel info structure...\n",
      "Loading BIDS data done\n",
      "Getting bad electrodes done\n",
      "rest\n",
      "Picking up BIDS files done\n",
      "Extracting parameters from /Fridge/users/julia/project_chill_dataset_paper/data/BIDS2/sub-55/ses-iemu/ieeg/sub-55_ses-iemu_task-rest_acq-clinical_run-1_ieeg.vhdr...\n",
      "Setting channel info structure...\n",
      "Loading BIDS data done\n",
      "Getting bad electrodes done\n",
      "57\n",
      "film\n"
     ]
    },
    {
     "name": "stderr",
     "output_type": "stream",
     "text": [
      "/home/julia/Documents/project_chill_dataset_paper/git/ieeg-fmri-dataset-validation/ieeg_fmri_validation/iemu/classes.py:72: RuntimeWarning: Limited 1 annotation(s) that were expanding outside the data range.\n",
      "  self.raw = mne.io.read_raw_brainvision(self.raw_path,\n"
     ]
    },
    {
     "name": "stdout",
     "output_type": "stream",
     "text": [
      "Picking up BIDS files done\n",
      "Extracting parameters from /Fridge/users/julia/project_chill_dataset_paper/data/BIDS2/sub-57/ses-iemu/ieeg/sub-57_ses-iemu_task-film_acq-clinical_run-2_ieeg.vhdr...\n",
      "Setting channel info structure...\n",
      "Loading BIDS data done\n",
      "Getting bad electrodes done\n",
      "rest\n",
      "Picking up BIDS files done\n",
      "Extracting parameters from /Fridge/users/julia/project_chill_dataset_paper/data/BIDS2/sub-57/ses-iemu/ieeg/sub-57_ses-iemu_task-rest_acq-clinical_run-1_ieeg.vhdr...\n",
      "Setting channel info structure...\n",
      "Loading BIDS data done\n",
      "Getting bad electrodes done\n",
      "58\n",
      "film\n",
      "Picking up BIDS files done\n",
      "Extracting parameters from /Fridge/users/julia/project_chill_dataset_paper/data/BIDS2/sub-58/ses-iemu/ieeg/sub-58_ses-iemu_task-film_acq-clinical_run-1_ieeg.vhdr...\n",
      "Setting channel info structure...\n",
      "Loading BIDS data done\n",
      "Getting bad electrodes done\n",
      "rest\n",
      "Picking up BIDS files done\n",
      "Extracting parameters from /Fridge/users/julia/project_chill_dataset_paper/data/BIDS2/sub-58/ses-iemu/ieeg/sub-58_ses-iemu_task-rest_acq-clinical_run-1_ieeg.vhdr...\n",
      "Setting channel info structure...\n",
      "Loading BIDS data done\n",
      "Getting bad electrodes done\n",
      "59\n",
      "film\n",
      "Picking up BIDS files done\n",
      "Extracting parameters from /Fridge/users/julia/project_chill_dataset_paper/data/BIDS2/sub-59/ses-iemu/ieeg/sub-59_ses-iemu_task-film_acq-clinical_run-1_ieeg.vhdr...\n",
      "Setting channel info structure...\n",
      "Loading BIDS data done\n",
      "Getting bad electrodes done\n",
      "rest\n",
      "Picking up BIDS files done\n",
      "Extracting parameters from /Fridge/users/julia/project_chill_dataset_paper/data/BIDS2/sub-59/ses-iemu/ieeg/sub-59_ses-iemu_task-rest_acq-clinical_run-1_ieeg.vhdr...\n",
      "Setting channel info structure...\n",
      "Loading BIDS data done\n",
      "Getting bad electrodes done\n",
      "60\n",
      "film\n",
      "Picking up BIDS files done\n",
      "Extracting parameters from /Fridge/users/julia/project_chill_dataset_paper/data/BIDS2/sub-60/ses-iemu/ieeg/sub-60_ses-iemu_task-film_acq-clinical_run-1_ieeg.vhdr...\n",
      "Setting channel info structure...\n",
      "Loading BIDS data done\n",
      "Getting bad electrodes done\n",
      "rest\n",
      "Picking up BIDS files done\n",
      "Extracting parameters from /Fridge/users/julia/project_chill_dataset_paper/data/BIDS2/sub-60/ses-iemu/ieeg/sub-60_ses-iemu_task-rest_acq-clinical_run-1_ieeg.vhdr...\n",
      "Setting channel info structure...\n",
      "Loading BIDS data done\n",
      "Getting bad electrodes done\n",
      "61\n",
      "film\n"
     ]
    },
    {
     "name": "stderr",
     "output_type": "stream",
     "text": [
      "/home/julia/Documents/project_chill_dataset_paper/git/ieeg-fmri-dataset-validation/ieeg_fmri_validation/iemu/classes.py:72: RuntimeWarning: Limited 1 annotation(s) that were expanding outside the data range.\n",
      "  self.raw = mne.io.read_raw_brainvision(self.raw_path,\n"
     ]
    },
    {
     "name": "stdout",
     "output_type": "stream",
     "text": [
      "Picking up BIDS files done\n",
      "Extracting parameters from /Fridge/users/julia/project_chill_dataset_paper/data/BIDS2/sub-61/ses-iemu/ieeg/sub-61_ses-iemu_task-film_acq-clinical_run-1_ieeg.vhdr...\n",
      "Setting channel info structure...\n",
      "Loading BIDS data done\n",
      "Getting bad electrodes done\n",
      "rest\n",
      "Picking up BIDS files done\n",
      "Extracting parameters from /Fridge/users/julia/project_chill_dataset_paper/data/BIDS2/sub-61/ses-iemu/ieeg/sub-61_ses-iemu_task-rest_acq-clinical_run-1_ieeg.vhdr...\n",
      "Setting channel info structure...\n",
      "Loading BIDS data done\n",
      "Getting bad electrodes done\n",
      "63\n",
      "film\n",
      "Picking up BIDS files done\n",
      "Extracting parameters from /Fridge/users/julia/project_chill_dataset_paper/data/BIDS2/sub-63/ses-iemu/ieeg/sub-63_ses-iemu_task-film_acq-clinical_run-2_ieeg.vhdr...\n",
      "Setting channel info structure...\n",
      "Loading BIDS data done\n",
      "Getting bad electrodes done\n",
      "rest\n",
      "Picking up BIDS files done\n",
      "Extracting parameters from /Fridge/users/julia/project_chill_dataset_paper/data/BIDS2/sub-63/ses-iemu/ieeg/sub-63_ses-iemu_task-rest_acq-clinical_run-1_ieeg.vhdr...\n",
      "Setting channel info structure...\n",
      "Loading BIDS data done\n",
      "Getting bad electrodes done\n"
     ]
    }
   ],
   "source": [
    "meta = read_meta(bids_dir)"
   ]
  },
  {
   "cell_type": "markdown",
   "id": "45678fd6-43c9-4b0a-be3b-559cbdcfccb5",
   "metadata": {},
   "source": [
    "### Plot meta-information\n",
    "\n",
    "* sex and age"
   ]
  },
  {
   "cell_type": "code",
   "execution_count": 6,
   "id": "43d3cfb0-0cc6-4943-9412-2e74a7a68d12",
   "metadata": {},
   "outputs": [
    {
     "data": {
      "image/png": "[encoded data removed]",
      "text/plain": [
       "<Figure size 450x450 with 1 Axes>"
      ]
     },
     "metadata": {},
     "output_type": "display_data"
    }
   ],
   "source": [
    "plt.figure(figsize=(4.5, 4.5))\n",
    "sns.swarmplot(data=table_subjs, x='sex', y='age', size=10, edgecolor='black', linewidth=1, palette='pastel')\n",
    "sns.boxplot(data=table_subjs, x='sex', y='age', width=.4, palette='pastel')\n",
    "plt.title('Sex and age of participants')\n",
    "plt.show()"
   ]
  },
  {
   "cell_type": "markdown",
   "id": "9239b0cb-8118-4ea0-9331-96202209a5a9",
   "metadata": {},
   "source": [
    "* handedness"
   ]
  },
  {
   "cell_type": "code",
   "execution_count": 7,
   "id": "cea9eecf-a282-4fa2-a025-d60dc9226c4b",
   "metadata": {},
   "outputs": [
    {
     "data": {
      "image/png": "[encoded data removed]",
      "text/plain": [
       "<Figure size 300x300 with 1 Axes>"
      ]
     },
     "metadata": {},
     "output_type": "display_data"
    }
   ],
   "source": [
    "plot_value_counts(table_subjs['handedness'])\n",
    "plt.title('Handedness')\n",
    "plt.show()"
   ]
  },
  {
   "cell_type": "markdown",
   "id": "59640f1a-c0cd-4047-bb7a-fc44b65f02c0",
   "metadata": {},
   "source": [
    "* language dominance"
   ]
  },
  {
   "cell_type": "code",
   "execution_count": 8,
   "id": "a3fc55b9-f2a6-474a-b699-1904abca4778",
   "metadata": {},
   "outputs": [
    {
     "data": {
      "image/png": "[encoded data removed]",
      "text/plain": [
       "<Figure size 300x300 with 1 Axes>"
      ]
     },
     "metadata": {},
     "output_type": "display_data"
    }
   ],
   "source": [
    "plot_value_counts(table_subjs['language_dominance'])\n",
    "plt.title('Language dominance')\n",
    "plt.show()"
   ]
  },
  {
   "cell_type": "markdown",
   "id": "b86abf3e-6a39-473a-82d3-71dd57974993",
   "metadata": {},
   "source": [
    "* distribution of fMRI / iEEG and high-density iEEG data across participants"
   ]
  },
  {
   "cell_type": "code",
   "execution_count": 9,
   "id": "17bd02cb-3754-4f55-863e-32aabb1cb38f",
   "metadata": {},
   "outputs": [
    {
     "data": {
      "image/png": "[encoded data removed]",
      "text/plain": [
       "<Figure size 300x300 with 1 Axes>"
      ]
     },
     "metadata": {},
     "output_type": "display_data"
    }
   ],
   "source": [
    "plot_sums(table_subjs[['iEEG', 'fMRI', 'high_density_grid']].eq('yes').mul(1))\n",
    "plt.title('Electrode type')\n",
    "plt.show()"
   ]
  },
  {
   "cell_type": "markdown",
   "id": "e088b1fd-c72e-4ed1-91f3-9ea106b12c43",
   "metadata": {},
   "source": [
    "* implanted iEEG hemisphere"
   ]
  },
  {
   "cell_type": "code",
   "execution_count": 10,
   "id": "3794f76e-a621-4d76-93cf-5c5c8046dacd",
   "metadata": {},
   "outputs": [
    {
     "data": {
      "image/png": "[encoded data removed]",
      "text/plain": [
       "<Figure size 300x300 with 1 Axes>"
      ]
     },
     "metadata": {},
     "output_type": "display_data"
    }
   ],
   "source": [
    "plot_value_counts(table_subjs['iEEG_hemisphere'])\n",
    "plt.title('IEEG hemisphere')\n",
    "plt.show()"
   ]
  },
  {
   "cell_type": "markdown",
   "id": "8a040864-fc99-4245-b2bf-20ff52b3dcf7",
   "metadata": {},
   "source": [
    "* percent of bad iEEG channels across participants"
   ]
  },
  {
   "cell_type": "code",
   "execution_count": 11,
   "id": "14aea88a-1ec5-473a-a86d-ee446bd7194f",
   "metadata": {},
   "outputs": [
    {
     "data": {
      "image/png": "[encoded data removed]",
      "text/plain": [
       "<Figure size 300x300 with 1 Axes>"
      ]
     },
     "metadata": {},
     "output_type": "display_data"
    },
    {
     "name": "stdout",
     "output_type": "stream",
     "text": [
      "4 subjects with >10% bad electrodes\n"
     ]
    }
   ],
   "source": [
    "plot_bad_ratios(meta['bad%'])\n",
    "plt.show()\n",
    "print(str((meta['bad%'].round() > 10).sum()) + ' subjects with >10% bad electrodes')"
   ]
  },
  {
   "cell_type": "markdown",
   "id": "bd4387b1-f158-48fd-95d9-9a61c746181e",
   "metadata": {},
   "source": [
    "* number of good iEEG channels across participants"
   ]
  },
  {
   "cell_type": "code",
   "execution_count": 12,
   "id": "de3a2d3d-6f9e-4bc9-ba04-bc0272815d42",
   "metadata": {},
   "outputs": [
    {
     "name": "stdout",
     "output_type": "stream",
     "text": [
      "Median number of electrodes: 79.0\n"
     ]
    },
    {
     "data": {
      "image/png": "[encoded data removed]",
      "text/plain": [
       "<Figure size 300x300 with 1 Axes>"
      ]
     },
     "metadata": {},
     "output_type": "display_data"
    }
   ],
   "source": [
    "plot_good_electrodes(meta['good'])\n",
    "print('Median number of electrodes: ' + str(meta['good'].median()))\n",
    "plt.show()"
   ]
  },
  {
   "cell_type": "markdown",
   "id": "23904bbd-e09d-4614-8f83-ea127c1933b0",
   "metadata": {},
   "source": [
    "* distribution of ECoG, sEEG and high-density ECoG across participants"
   ]
  },
  {
   "cell_type": "code",
   "execution_count": 13,
   "id": "999c3d17-99d7-4040-b0e3-b2d92c737787",
   "metadata": {},
   "outputs": [
    {
     "data": {
      "image/png": "[encoded data removed]",
      "text/plain": [
       "<Figure size 300x300 with 1 Axes>"
      ]
     },
     "metadata": {},
     "output_type": "display_data"
    }
   ],
   "source": [
    "plot_sums(meta[['ecog', 'seeg', 'hd']])\n",
    "plt.show()"
   ]
  },
  {
   "cell_type": "markdown",
   "id": "b5e972e0-2b64-463f-906c-26489ca52223",
   "metadata": {},
   "source": [
    "* distribution of task rest and natural rest"
   ]
  },
  {
   "cell_type": "code",
   "execution_count": 14,
   "id": "1d43ecac-0b83-4444-8b38-22c99787cc92",
   "metadata": {},
   "outputs": [
    {
     "data": {
      "image/png": "[encoded data removed]",
      "text/plain": [
       "<Figure size 300x300 with 1 Axes>"
      ]
     },
     "metadata": {},
     "output_type": "display_data"
    }
   ],
   "source": [
    "plot_value_counts(meta['rest'])\n",
    "plt.show()"
   ]
  },
  {
   "cell_type": "markdown",
   "id": "d79394b5-e4a8-465a-93fe-77b79fad07da",
   "metadata": {},
   "source": [
    "* sampling rate of iEEG data"
   ]
  },
  {
   "cell_type": "code",
   "execution_count": 15,
   "id": "56ef4b21-766f-477a-9c34-324ddedda3a8",
   "metadata": {},
   "outputs": [
    {
     "name": "stderr",
     "output_type": "stream",
     "text": [
      "/home/julia/Documents/Python/anaconda3/envs/mne/lib/python3.8/site-packages/matplotlib/text.py:1165: FutureWarning: elementwise comparison failed; returning scalar instead, but in the future will perform elementwise comparison\n",
      "  if s != self._text:\n"
     ]
    },
    {
     "data": {
      "image/png": "[encoded data removed]",
      "text/plain": [
       "<Figure size 300x300 with 1 Axes>"
      ]
     },
     "metadata": {},
     "output_type": "display_data"
    }
   ],
   "source": [
    "plot_value_counts(meta['sr'])\n",
    "plt.show()"
   ]
  },
  {
   "cell_type": "markdown",
   "id": "88bf1c5f-2b8c-4d4e-b2bd-9702d3678f8f",
   "metadata": {},
   "source": [
    "* anatomical sessions across participants (3t or 7t)"
   ]
  },
  {
   "cell_type": "code",
   "execution_count": 16,
   "id": "f4ca4464-d49a-4d25-af07-ad99189c2d90",
   "metadata": {},
   "outputs": [
    {
     "data": {
      "image/png": "[encoded data removed]",
      "text/plain": [
       "<Figure size 300x300 with 1 Axes>"
      ]
     },
     "metadata": {},
     "output_type": "display_data"
    }
   ],
   "source": [
    "plot_value_counts(meta['anat'])\n",
    "plt.show()"
   ]
  },
  {
   "cell_type": "markdown",
   "id": "8d75611d-c685-43c7-bcdb-9d8a82e4367d",
   "metadata": {},
   "source": [
    "* distribution of breathing, heart rate and electroocculography data across participants"
   ]
  },
  {
   "cell_type": "code",
   "execution_count": 17,
   "id": "1a791153-7ed1-4e18-abcb-f22e62c7a5eb",
   "metadata": {},
   "outputs": [
    {
     "data": {
      "image/png": "[encoded data removed]",
      "text/plain": [
       "<Figure size 300x300 with 1 Axes>"
      ]
     },
     "metadata": {},
     "output_type": "display_data"
    }
   ],
   "source": [
    "plot_sums(meta[['ah', 'ecg', 'eog']])\n",
    "plt.show()"
   ]
  }
 ],
 "metadata": {
  "kernelspec": {
   "display_name": "Python 3",
   "language": "python",
   "name": "python3"
  },
  "language_info": {
   "codemirror_mode": {
    "name": "ipython",
    "version": 3
   },
   "file_extension": ".py",
   "mimetype": "text/x-python",
   "name": "python",
   "nbconvert_exporter": "python",
   "pygments_lexer": "ipython3",
   "version": "3.8.6"
  }
 },
 "nbformat": 4,
 "nbformat_minor": 5
}
