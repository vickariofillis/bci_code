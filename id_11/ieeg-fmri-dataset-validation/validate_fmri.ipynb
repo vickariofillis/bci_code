{
 "cells": [
  {
   "cell_type": "markdown",
   "id": "53502c00-6903-4208-b3a5-2d9f0fa56dd1",
   "metadata": {},
   "source": [
    "### Process and validate fMRI data"
   ]
  },
  {
   "cell_type": "code",
   "execution_count": null,
   "id": "13684b71-9d6b-4b93-9537-6d586bc5a85d",
   "metadata": {},
   "outputs": [],
   "source": [
    "import numpy as np\n",
    "import seaborn as sns\n",
    "\n",
    "from matplotlib import pyplot as plt\n",
    "from ieeg_fmri_validation.fmri.process import make_fsf_script\n",
    "from ieeg_fmri_validation.fmri.motion import find_outliers\n",
    "from ieeg_fmri_validation.fmri.tsnr import calculate_tsnr\n",
    "\n",
    "%matplotlib inline"
   ]
  },
  {
   "cell_type": "markdown",
   "id": "fc50df16-9091-4fb8-9e2b-6486c39e9f03",
   "metadata": {},
   "source": [
    "### Set BIDS dataset directory and output directory for FSL preprocessing"
   ]
  },
  {
   "cell_type": "code",
   "execution_count": null,
   "id": "d13402eb-1dbe-4ffe-ae11-db4268a06dd6",
   "metadata": {},
   "outputs": [],
   "source": [
    "bids_dir='/Fridge/users/julia/project_chill_dataset_paper/data/BIDS2'\n",
    "output_dir='/Fridge/users/julia/project_chill_dataset_paper/validation/fmri'"
   ]
  },
  {
   "cell_type": "markdown",
   "id": "f5214dda-c2d3-44b7-8f61-539dcc9a11eb",
   "metadata": {},
   "source": [
    "### Run standard FSL preprocessing using fsf scripts"
   ]
  },
  {
   "cell_type": "code",
   "execution_count": null,
   "id": "2ff4179e-ef6a-4bd4-b7e2-73a4de107fd2",
   "metadata": {},
   "outputs": [],
   "source": [
    "make_fsf_script(bids_dir, output_dir, run=True)"
   ]
  },
  {
   "cell_type": "markdown",
   "id": "4b462744-87d3-444c-8600-cc9e7fdd7295",
   "metadata": {},
   "source": [
    "### Calculate framewise discplacement due to motion and outliers in fMRI scans"
   ]
  },
  {
   "cell_type": "code",
   "execution_count": null,
   "id": "68e5f16b-732f-4666-90e9-89f3a052d5fc",
   "metadata": {},
   "outputs": [],
   "source": [
    "fds, outliers = find_outliers(output_dir)"
   ]
  },
  {
   "cell_type": "markdown",
   "id": "aed449ff-80e3-439f-86f6-297f5e84dc7e",
   "metadata": {},
   "source": [
    "### Plot framewise displacement"
   ]
  },
  {
   "cell_type": "code",
   "execution_count": null,
   "id": "9b34621e-6fa1-4ad6-8384-7002b9573465",
   "metadata": {},
   "outputs": [],
   "source": [
    "plt.figure(figsize=(5, 3))\n",
    "plt.violinplot(fds, showmedians=True, widths=.85)\n",
    "plt.hlines(y=4, xmin=0, xmax=len(fds) + 1, linestyles=':')\n",
    "plt.xlim(0, len(fds) + 1)\n",
    "plt.xlabel('Subjects')\n",
    "plt.ylabel('Framewise displacement (mm)')\n",
    "plt.show()"
   ]
  },
  {
   "cell_type": "markdown",
   "id": "87bf4f3a-cf2c-43a3-ac3a-bf1305012da8",
   "metadata": {},
   "source": [
    "### Plot ourlier scans based on excessive motion "
   ]
  },
  {
   "cell_type": "code",
   "execution_count": null,
   "id": "aa4c6d65-f48d-412f-9280-db961b8f6d76",
   "metadata": {},
   "outputs": [],
   "source": [
    "print(str(np.sum(np.round(np.array(outliers) / 641 * 100) > 5)) + ' subjects with >5% outliers')\n",
    "plt.figure(figsize=(3, 3))\n",
    "ax = sns.histplot(np.round(np.array(outliers) / 641 * 100),\n",
    "                  kde=True, edgecolor=\"w\", linewidth=1,\n",
    "                  bins=range(int(np.max(np.round(np.array(outliers) / 641 * 100)) + 2)))\n",
    "plt.xlabel('Percent outliers')\n",
    "mids = [rect.get_x() + rect.get_width() / 2 for rect in ax.patches]\n",
    "plt.xticks(mids, (np.array(mids) - .5).astype(int))\n",
    "plt.tight_layout()\n",
    "plt.show()"
   ]
  },
  {
   "cell_type": "markdown",
   "id": "af30eca0-5a75-4e6d-a61d-2db75363b0a4",
   "metadata": {},
   "source": [
    "### Calculate temporal signal-to-noise ratio (tSNR)"
   ]
  },
  {
   "cell_type": "code",
   "execution_count": null,
   "id": "8c7073f6-f98d-4878-ad84-10888ae117dc",
   "metadata": {},
   "outputs": [],
   "source": [
    "tsnrs = calculate_tsnr(output_dir)"
   ]
  },
  {
   "cell_type": "markdown",
   "id": "92b6c063-5857-4695-a539-3bafc444926b",
   "metadata": {},
   "source": [
    "### Plot tSNR"
   ]
  },
  {
   "cell_type": "code",
   "execution_count": null,
   "id": "67d7ecc7-0615-44c8-b55d-a05dae00beac",
   "metadata": {},
   "outputs": [],
   "source": [
    "print('Average tSNR over subjects: ' + str(np.mean([np.median(i) for i in tsnrs])),\n",
    "      ', std: ' + str(np.std([np.median(i) for i in tsnrs])))\n",
    "plt.figure(figsize=(5, 3))\n",
    "plt.violinplot(tsnrs, showmedians=True, widths=.85)\n",
    "plt.xlim(0, len(tsnrs) + 1)\n",
    "plt.xlabel('Subjects')\n",
    "plt.ylabel('tSNR')\n",
    "plt.show()"
   ]
  }
 ],
 "metadata": {
  "kernelspec": {
   "display_name": "Python 3",
   "language": "python",
   "name": "python3"
  },
  "language_info": {
   "codemirror_mode": {
    "name": "ipython",
    "version": 3
   },
   "file_extension": ".py",
   "mimetype": "text/x-python",
   "name": "python",
   "nbconvert_exporter": "python",
   "pygments_lexer": "ipython3",
   "version": "3.8.6"
  }
 },
 "nbformat": 4,
 "nbformat_minor": 5
}
