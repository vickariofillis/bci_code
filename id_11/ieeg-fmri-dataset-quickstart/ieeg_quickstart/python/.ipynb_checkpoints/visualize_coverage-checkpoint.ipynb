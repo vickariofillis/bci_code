{
 "cells": [
  {
   "cell_type": "markdown",
   "id": "parental-suspension",
   "metadata": {},
   "source": [
    "### Visualization of the electrode coverage using MNE tools"
   ]
  },
  {
   "cell_type": "code",
   "execution_count": 1,
   "id": "laden-birmingham",
   "metadata": {},
   "outputs": [
    {
     "name": "stdout",
     "output_type": "stream",
     "text": [
      "Using notebook 3d backend.\n",
      "\n"
     ]
    }
   ],
   "source": [
    "import numpy as np\n",
    "import mne\n",
    "import pandas as pd\n",
    "import os\n",
    "import mne_bids\n",
    "import nibabel\n",
    "\n",
    "\n",
    "mne.viz.set_3d_backend('notebook')\n",
    "%matplotlib qt"
   ]
  },
  {
   "cell_type": "markdown",
   "id": "designing-breeding",
   "metadata": {},
   "source": [
    "### Specify info about the subject, recording session, datatype, acquisition, task and freesurfer reconstruction directory\n",
    "\n",
    "Most of this info can be derived from the BIDs filenames and metadata. Check https://bids-specification.readthedocs.io/en/stable/04-modality-specific-files/04-intracranial-electroencephalography.html\n",
    "\n",
    "To visualize electrode coverage on the native brain you will need to obtain freesurfer reconstruction of the native anatomy. For this, you will need to install Freesurfer (https://surfer.nmr.mgh.harvard.edu/) and run the following in the terminal, set up variables SUBJECTS_DIR and FS_HOME_DIR and run cortical reconstruction in the terminal: \n",
    "\n",
    "``` recon-all -subject sub-01  -i sub-01/ses-mri3t/anat/sub-01_ses-mri3t_run-1_T1w.nii -cw256 -all ```"
   ]
  },
  {
   "cell_type": "code",
   "execution_count": 2,
   "id": "stupid-scholar",
   "metadata": {},
   "outputs": [],
   "source": [
    "bids_dir='/Fridge/users/julia/project_chill_dataset_paper/data/BIDS2'\n",
    "subjects = mne_bids.get_entity_vals(bids_dir, 'subject')\n",
    "\n",
    "subject = '01'\n",
    "session = 'iemu'\n",
    "datatype = 'ieeg'\n",
    "task = 'film'\n",
    "acquisition = 'clinical'\n",
    "fs_dir = '/Fridge/users/julia/project_chill_dataset_paper/data/freesurfer2/sub-01'"
   ]
  },
  {
   "cell_type": "markdown",
   "id": "boring-contrast",
   "metadata": {},
   "source": [
    "### Load electrodes info"
   ]
  },
  {
   "cell_type": "code",
   "execution_count": 3,
   "id": "swiss-count",
   "metadata": {},
   "outputs": [],
   "source": [
    "electrodes_path = mne_bids.BIDSPath(subject=subject,\n",
    "                                    session=session,\n",
    "                                    suffix='electrodes',\n",
    "                                    extension='tsv',\n",
    "                                    datatype=datatype,\n",
    "                                    acquisition=acquisition,\n",
    "                                    root=bids_dir)\n",
    "electrodes = pd.read_csv(str(electrodes_path), sep='\\t', header=0, index_col=None)\n",
    "coords = electrodes[['x', 'y', 'z']].values"
   ]
  },
  {
   "cell_type": "markdown",
   "id": "unique-audio",
   "metadata": {},
   "source": [
    "### Load channels info"
   ]
  },
  {
   "cell_type": "code",
   "execution_count": 4,
   "id": "molecular-wilson",
   "metadata": {},
   "outputs": [],
   "source": [
    "channels_path = mne_bids.BIDSPath(subject=subject,\n",
    "                                    session=session,\n",
    "                                    suffix='channels',\n",
    "                                    extension='tsv',\n",
    "                                    datatype=datatype,\n",
    "                                    task=task,\n",
    "                                    acquisition=acquisition,\n",
    "                                    root=bids_dir)\n",
    "channels = pd.read_csv(str(channels_path.match()[0]), sep='\\t', header=0, index_col=None)"
   ]
  },
  {
   "cell_type": "markdown",
   "id": "stock-transmission",
   "metadata": {},
   "source": [
    "### Load iEEG data info, set channel types and drop all irrelevant channels (not iEEG)"
   ]
  },
  {
   "cell_type": "code",
   "execution_count": 5,
   "id": "complicated-spread",
   "metadata": {},
   "outputs": [
    {
     "name": "stdout",
     "output_type": "stream",
     "text": [
      "Extracting parameters from /Fridge/users/julia/project_chill_dataset_paper/data/BIDS2/sub-01/ses-iemu/ieeg/sub-01_ses-iemu_task-film_acq-clinical_run-1_ieeg.vhdr...\n",
      "Setting channel info structure...\n"
     ]
    },
    {
     "data": {
      "text/html": [
       "<table class=\"table table-hover table-striped table-sm table-responsive small\">\n",
       "    <tr>\n",
       "        <th>Measurement date</th>\n",
       "        \n",
       "        <td>January 01, 1900  00:00:00 GMT</td>\n",
       "        \n",
       "    </tr>\n",
       "    <tr>\n",
       "        <th>Experimenter</th>\n",
       "        \n",
       "        <td>Unknown</td>\n",
       "        \n",
       "    </tr>\n",
       "        <th>Participant</th>\n",
       "        \n",
       "        <td>Unknown</td>\n",
       "        \n",
       "    </tr>\n",
       "    <tr>\n",
       "        <th>Digitized points</th>\n",
       "        \n",
       "        <td>0 points</td>\n",
       "        \n",
       "    </tr>\n",
       "    <tr>\n",
       "        <th>Good channels</th>\n",
       "        <td>103 sEEG</td>\n",
       "    </tr>\n",
       "    <tr>\n",
       "        <th>Bad channels</th>\n",
       "        <td>None</td>\n",
       "    </tr>\n",
       "    <tr>\n",
       "        <th>EOG channels</th>\n",
       "        <td>Not available</td>\n",
       "    </tr>\n",
       "    <tr>\n",
       "        <th>ECG channels</th>\n",
       "        <td>Not available</td>\n",
       "    \n",
       "    <tr>\n",
       "        <th>Sampling frequency</th>\n",
       "        <td>2048.00 Hz</td>\n",
       "    </tr>\n",
       "    \n",
       "    \n",
       "    <tr>\n",
       "        <th>Highpass</th>\n",
       "        <td>0.00 Hz</td>\n",
       "    </tr>\n",
       "    \n",
       "    \n",
       "    <tr>\n",
       "        <th>Lowpass</th>\n",
       "        <td>1024.00 Hz</td>\n",
       "    </tr>\n",
       "    \n",
       "    \n",
       "    \n",
       "    <tr>\n",
       "        <th>Filenames</th>\n",
       "        <td>sub-01_ses-iemu_task-film_acq-clinical_run-1_ieeg.eeg</td>\n",
       "    </tr>\n",
       "    \n",
       "    <tr>\n",
       "        <th>Duration</th>\n",
       "        <td>00:07:00 (HH:MM:SS)</td>\n",
       "    </tr>\n",
       "</table>"
      ],
      "text/plain": [
       "<RawBrainVision | sub-01_ses-iemu_task-film_acq-clinical_run-1_ieeg.eeg, 103 x 860254 (420.0 s), ~107 kB, data not loaded>"
      ]
     },
     "execution_count": 5,
     "metadata": {},
     "output_type": "execute_result"
    }
   ],
   "source": [
    "data_path = mne_bids.BIDSPath(subject=subject,\n",
    "                                    session=session,\n",
    "                                    suffix='ieeg',\n",
    "                                    extension='vhdr',\n",
    "                                    datatype=datatype,\n",
    "                                    task=task,\n",
    "                                    acquisition=acquisition,\n",
    "                                    root=bids_dir)\n",
    "raw = mne.io.read_raw_brainvision(str(data_path.match()[0]), scale=1.0, preload=False, verbose=True)\n",
    "raw.set_channel_types({ch_name: str(x).lower()\n",
    "                if str(x).lower() in ['ecog', 'seeg'] else 'misc'\n",
    "                                for ch_name, x in zip(raw.ch_names, channels['type'].values)})\n",
    "raw.drop_channels([raw.ch_names[i] for i, j in enumerate(raw.get_channel_types()) if j == 'misc'])"
   ]
  },
  {
   "cell_type": "markdown",
   "id": "tribal-canon",
   "metadata": {},
   "source": [
    "### Transform electrode coordinate to the freesurfer RAS space to visualize them on the surface"
   ]
  },
  {
   "cell_type": "code",
   "execution_count": 6,
   "id": "tamil-serial",
   "metadata": {},
   "outputs": [
    {
     "name": "stderr",
     "output_type": "stream",
     "text": [
      "/tmp/ipykernel_3730404/702744162.py:7: RuntimeWarning: Fiducial point nasion not found, assuming identity unknown to head transformation\n",
      "  raw.set_montage(montage)\n"
     ]
    },
    {
     "data": {
      "text/html": [
       "<table class=\"table table-hover table-striped table-sm table-responsive small\">\n",
       "    <tr>\n",
       "        <th>Measurement date</th>\n",
       "        \n",
       "        <td>January 01, 1900  00:00:00 GMT</td>\n",
       "        \n",
       "    </tr>\n",
       "    <tr>\n",
       "        <th>Experimenter</th>\n",
       "        \n",
       "        <td>Unknown</td>\n",
       "        \n",
       "    </tr>\n",
       "        <th>Participant</th>\n",
       "        \n",
       "        <td>Unknown</td>\n",
       "        \n",
       "    </tr>\n",
       "    <tr>\n",
       "        <th>Digitized points</th>\n",
       "        \n",
       "        <td>0 points</td>\n",
       "        \n",
       "    </tr>\n",
       "    <tr>\n",
       "        <th>Good channels</th>\n",
       "        <td>103 sEEG</td>\n",
       "    </tr>\n",
       "    <tr>\n",
       "        <th>Bad channels</th>\n",
       "        <td>None</td>\n",
       "    </tr>\n",
       "    <tr>\n",
       "        <th>EOG channels</th>\n",
       "        <td>Not available</td>\n",
       "    </tr>\n",
       "    <tr>\n",
       "        <th>ECG channels</th>\n",
       "        <td>Not available</td>\n",
       "    \n",
       "    <tr>\n",
       "        <th>Sampling frequency</th>\n",
       "        <td>2048.00 Hz</td>\n",
       "    </tr>\n",
       "    \n",
       "    \n",
       "    <tr>\n",
       "        <th>Highpass</th>\n",
       "        <td>0.00 Hz</td>\n",
       "    </tr>\n",
       "    \n",
       "    \n",
       "    <tr>\n",
       "        <th>Lowpass</th>\n",
       "        <td>1024.00 Hz</td>\n",
       "    </tr>\n",
       "    \n",
       "    \n",
       "    \n",
       "    <tr>\n",
       "        <th>Filenames</th>\n",
       "        <td>sub-01_ses-iemu_task-film_acq-clinical_run-1_ieeg.eeg</td>\n",
       "    </tr>\n",
       "    \n",
       "    <tr>\n",
       "        <th>Duration</th>\n",
       "        <td>00:07:00 (HH:MM:SS)</td>\n",
       "    </tr>\n",
       "</table>"
      ],
      "text/plain": [
       "<RawBrainVision | sub-01_ses-iemu_task-film_acq-clinical_run-1_ieeg.eeg, 103 x 860254 (420.0 s), ~147 kB, data not loaded>"
      ]
     },
     "execution_count": 6,
     "metadata": {},
     "output_type": "execute_result"
    }
   ],
   "source": [
    "x = nibabel.load(os.path.join(fs_dir, 'mri', 'orig.mgz'))\n",
    "vox_coords = np.round(mne.transforms.apply_trans(np.linalg.inv(x.affine), coords)).astype(int)\n",
    "ras_coords = mne.transforms.apply_trans(x.header.get_vox2ras_tkr(), vox_coords)\n",
    "ras_coords = ras_coords / 1000\n",
    "\n",
    "montage = mne.channels.make_dig_montage(ch_pos=dict(zip(raw.ch_names, ras_coords)), coord_frame='mri')\n",
    "raw.set_montage(montage)"
   ]
  },
  {
   "cell_type": "markdown",
   "id": "worst-collar",
   "metadata": {},
   "source": [
    "### Visualize electrodes\n",
    "\n",
    "*By default, if SEEG channels are present, MNE will make the visualization transparent"
   ]
  },
  {
   "cell_type": "code",
   "execution_count": 8,
   "id": "eastern-geology",
   "metadata": {},
   "outputs": [
    {
     "name": "stdout",
     "output_type": "stream",
     "text": [
      "Channel types::\tseeg: 103\n"
     ]
    },
    {
     "data": {
      "application/vnd.jupyter.widget-view+json": {
       "model_id": "ac9d1c1403dc4d8abcf2a00f224cff31",
       "version_major": 2,
       "version_minor": 0
      },
      "text/plain": [
       "HBox(children=(Text(value='', layout=Layout(margin='2px 0px 2px 0px', min_width='0px'), placeholder='Type a fi…"
      ]
     },
     "metadata": {},
     "output_type": "display_data"
    },
    {
     "data": {
      "application/vnd.jupyter.widget-view+json": {
       "model_id": "fd38814bef7347af8ac53b37cb31baa4",
       "version_major": 2,
       "version_minor": 0
      },
      "text/plain": [
       "HBox(children=(ViewInteractiveWidget(height=800, layout=Layout(height='auto'), width=800),))"
      ]
     },
     "metadata": {},
     "output_type": "display_data"
    }
   ],
   "source": [
    "from packaging import version\n",
    "\n",
    "if version.parse(mne.__version__) <= version.parse('0.22.0'):\n",
    "    fig = mne.viz.plot_alignment(raw.info,\n",
    "                   subject='sub-' + subject,\n",
    "                   subjects_dir=os.path.dirname(fs_dir),\n",
    "                   surfaces=['pial'],\n",
    "                   coord_frame='mri')\n",
    "else:\n",
    "    # trans argument became mandatory\n",
    "    identity_trans = mne.transforms.Transform('head', 'mri')\n",
    "    fig = mne.viz.plot_alignment(raw.info, trans=identity_trans,\n",
    "               subject='sub-' + subject,\n",
    "               subjects_dir=os.path.dirname(fs_dir),\n",
    "               surfaces=['pial'],\n",
    "               coord_frame='mri')\n",
    "mne.viz.set_3d_view(fig, 180, 70, distance=.5)"
   ]
  }
 ],
 "metadata": {
  "kernelspec": {
   "display_name": "mne_pip",
   "language": "python",
   "name": "mne_pip"
  },
  "language_info": {
   "codemirror_mode": {
    "name": "ipython",
    "version": 3
   },
   "file_extension": ".py",
   "mimetype": "text/x-python",
   "name": "python",
   "nbconvert_exporter": "python",
   "pygments_lexer": "ipython3",
   "version": "3.10.4"
  }
 },
 "nbformat": 4,
 "nbformat_minor": 5
}
